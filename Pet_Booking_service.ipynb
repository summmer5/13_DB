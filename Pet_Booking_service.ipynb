{
 "cells": [
  {
   "cell_type": "code",
   "execution_count": 1,
   "id": "468fee69",
   "metadata": {},
   "outputs": [
    {
     "ename": "SyntaxError",
     "evalue": "invalid syntax (814826581.py, line 1)",
     "output_type": "error",
     "traceback": [
      "\u001b[0;36m  Cell \u001b[0;32mIn[1], line 1\u001b[0;36m\u001b[0m\n\u001b[0;31m    -- 고객 테이블\u001b[0m\n\u001b[0m          ^\u001b[0m\n\u001b[0;31mSyntaxError\u001b[0m\u001b[0;31m:\u001b[0m invalid syntax\n"
     ]
    }
   ],
   "source": [
    "-- 고객 테이블\n",
    "CREATE TABLE Customer (\n",
    "    customerID INT AUTO_INCREMENT PRIMARY KEY,\n",
    "    name VARCHAR(100) NOT NULL,\n",
    "    phone VARCHAR(20),\n",
    "    email VARCHAR(100)\n",
    ");\n",
    "\n",
    "-- 반려동물 테이블\n",
    "CREATE TABLE Pet (\n",
    "    petID INT AUTO_INCREMENT PRIMARY KEY,\n",
    "    customerID INT,\n",
    "    name VARCHAR(100),\n",
    "    species VARCHAR(50),\n",
    "    breed VARCHAR(100),\n",
    "    age INT,\n",
    "    FOREIGN KEY (customerID) REFERENCES Customer(customerID)\n",
    ");\n",
    "\n",
    "-- 객실 테이블\n",
    "CREATE TABLE Room (\n",
    "    roomID INT AUTO_INCREMENT PRIMARY KEY,\n",
    "    roomType VARCHAR(50),\n",
    "    capacity INT,\n",
    "    pricePerNight DECIMAL(10,2)\n",
    ");\n",
    "\n",
    "-- 예약 테이블\n",
    "CREATE TABLE Booking (\n",
    "    bookingID INT AUTO_INCREMENT PRIMARY KEY,\n",
    "    petID INT,\n",
    "    roomID INT,\n",
    "    checkInDate DATE,\n",
    "    checkOutDate DATE,\n",
    "    totalPrice DECIMAL(10,2),\n",
    "    FOREIGN KEY (petID) REFERENCES Pet(petID),\n",
    "    FOREIGN KEY (roomID) REFERENCES Room(roomID)\n",
    ");\n",
    "\n",
    "-- 서비스 테이블\n",
    "CREATE TABLE Service (\n",
    "    serviceID INT AUTO_INCREMENT PRIMARY KEY,\n",
    "    serviceName VARCHAR(100),\n",
    "    price DECIMAL(10,2)\n",
    ");\n",
    "\n",
    "-- 예약-서비스 연결 테이블 (N:M 관계)\n",
    "CREATE TABLE Booking_Service (\n",
    "    bookingID INT,\n",
    "    serviceID INT,\n",
    "    PRIMARY KEY (bookingID, serviceID),\n",
    "    FOREIGN KEY (bookingID) REFERENCES Booking(bookingID),\n",
    "    FOREIGN KEY (serviceID) REFERENCES Service(serviceID)\n",
    ");"
   ]
  }
 ],
 "metadata": {
  "kernelspec": {
   "display_name": "Python 3",
   "language": "python",
   "name": "python3"
  },
  "language_info": {
   "codemirror_mode": {
    "name": "ipython",
    "version": 3
   },
   "file_extension": ".py",
   "mimetype": "text/x-python",
   "name": "python",
   "nbconvert_exporter": "python",
   "pygments_lexer": "ipython3",
   "version": "3.9.6"
  }
 },
 "nbformat": 4,
 "nbformat_minor": 5
}
